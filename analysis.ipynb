{
 "cells": [
  {
   "cell_type": "markdown",
   "metadata": {},
   "source": [
    "# Initializing Libraries"
   ]
  },
  {
   "cell_type": "code",
   "execution_count": 1,
   "metadata": {},
   "outputs": [],
   "source": [
    "import os\n",
    "import pandas as pd\n",
    "import matplotlib.pyplot as plt\n",
    "import seaborn as sns\n",
    "import numpy as np\n",
    "import timeit\n",
    "import warnings\n",
    "\n",
    "import matplotlib.pyplot as plt\n",
    "plt.style.use('seaborn-v0_8-whitegrid')\n",
    "\n",
    "from sklearn.model_selection import train_test_split, StratifiedKFold, GridSearchCV, LearningCurveDisplay, cross_validate\n",
    "from sklearn.preprocessing import StandardScaler, MinMaxScaler , OneHotEncoder, RobustScaler, PowerTransformer\n",
    "from sklearn.neural_network import MLPClassifier\n",
    "from sklearn.svm import SVC\n",
    "from sklearn.neighbors import KNeighborsClassifier\n",
    "from sklearn.metrics import accuracy_score, classification_report, confusion_matrix, roc_auc_score, f1_score, precision_score, recall_score, ConfusionMatrixDisplay, roc_curve, auc\n",
    "from sklearn.pipeline import Pipeline, make_pipeline\n",
    "from sklearn.compose import ColumnTransformer\n",
    "from sklearn.feature_selection import f_classif, SelectKBest\n",
    "from sklearn.ensemble import AdaBoostClassifier\n",
    "from sklearn.tree import DecisionTreeClassifier\n",
    "# from sklearn.feature_variance import VarianceThreshold\n",
    "\n",
    "from sklearn.model_selection import ValidationCurveDisplay\n",
    "\n",
    "from scipy.stats import skew\n",
    "\n",
    "from imblearn.over_sampling import SMOTE\n",
    "from imblearn.under_sampling import NearMiss\n",
    "\n",
    "import itertools\n",
    "import timeit\n",
    "\n",
    "from sklearn.metrics.pairwise import pairwise_distances\n",
    "\n",
    "#Clustering\n",
    "from sklearn.cluster import KMeans\n",
    "from sklearn.metrics import silhouette_score, f1_score, homogeneity_score\n",
    "from sklearn.mixture import GaussianMixture as EM\n",
    "\n",
    "from sklearn.decomposition import PCA, FastICA as ICA\n",
    "from sklearn.random_projection import GaussianRandomProjection as GRP, SparseRandomProjection as RCA"
   ]
  },
  {
   "cell_type": "code",
   "execution_count": 3,
   "metadata": {},
   "outputs": [],
   "source": [
    "from ucimlrepo import fetch_ucirepo "
   ]
  },
  {
   "cell_type": "code",
   "execution_count": 4,
   "metadata": {},
   "outputs": [],
   "source": [
    "def gtid():\n",
    "    return  903952938"
   ]
  },
  {
   "cell_type": "markdown",
   "metadata": {},
   "source": [
    "# Loading and Analysing Dataset"
   ]
  },
  {
   "cell_type": "markdown",
   "metadata": {},
   "source": [
    "## Dataset 1 - Diabetes Prediction"
   ]
  },
  {
   "cell_type": "code",
   "execution_count": 21,
   "metadata": {},
   "outputs": [],
   "source": [
    "def load_dataset_1(test_size=0.3, random_state=gtid()):\n",
    "        cdc_diabetes_health_indicators = fetch_ucirepo(id=891) \n",
    "        X = cdc_diabetes_health_indicators.data.features\n",
    "        y = cdc_diabetes_health_indicators.data.targets\n",
    "        temp  = X.copy()\n",
    "        temp['Diabetes'] = y\n",
    "        temp.drop_duplicates(inplace = True)\n",
    "        X,y = temp[[i for i in temp.columns if i!='Diabetes']], temp[['Diabetes']]\n",
    "        X_train, X_test, y_train, y_test = train_test_split(X,y, test_size=test_size, random_state=random_state)\n",
    "        return X_train, X_test, y_train, y_test"
   ]
  },
  {
   "cell_type": "code",
   "execution_count": 22,
   "metadata": {},
   "outputs": [],
   "source": [
    "X_train, X_test, y_train, y_test = load_dataset_1()"
   ]
  },
  {
   "cell_type": "code",
   "execution_count": 23,
   "metadata": {},
   "outputs": [
    {
     "name": "stdout",
     "output_type": "stream",
     "text": [
      "Unique values in column 'HighBP': [1 0]\n",
      "Unique values in column 'HighChol': [0 1]\n",
      "Unique values in column 'CholCheck': [1 0]\n",
      "Unique values in column 'BMI': [31 21 34 27 25 24 40 20 38 29 36 32 26 18 22 23 28 30 37 39 19 35 48 60\n",
      " 49 33 51 44 45 42 43 47 56 14 15 54 13 87 41 50 63 46 16 17 53 57 92 55\n",
      " 72 69 84 75 71 67 52 68 81 77 79 62 64 58 82 12 89 61 65 80 73 95 70 59\n",
      " 66 98 74 85 90 76 88 83]\n",
      "Unique values in column 'Smoker': [0 1]\n",
      "Unique values in column 'Stroke': [0 1]\n",
      "Unique values in column 'HeartDiseaseorAttack': [0 1]\n",
      "Unique values in column 'PhysActivity': [0 1]\n",
      "Unique values in column 'Fruits': [0 1]\n",
      "Unique values in column 'Veggies': [0 1]\n",
      "Unique values in column 'HvyAlcoholConsump': [0 1]\n",
      "Unique values in column 'AnyHealthcare': [1 0]\n",
      "Unique values in column 'NoDocbcCost': [0 1]\n",
      "Unique values in column 'GenHlth': [3 1 2 5 4]\n",
      "Unique values in column 'MentHlth': [ 0  2 30  1 15  3  5 10 20 26  4  7  8 25 14 28 12  6 21 27 22 16 29  9\n",
      " 18 19 17 23 24 11 13]\n",
      "Unique values in column 'PhysHlth': [10  1  0  5  2 30 14  3  7 25  4  8 15  6 28  9 12 20 21 13 17 18 27 29\n",
      " 16 11 26 22 23 24 19]\n",
      "Unique values in column 'DiffWalk': [0 1]\n",
      "Unique values in column 'Sex': [1 0]\n",
      "Unique values in column 'Age': [ 8  2 10  6 13  9  3  5 11  7 12  4  1]\n",
      "Unique values in column 'Education': [4 6 5 3 2 1]\n",
      "Unique values in column 'Income': [7 6 2 4 1 8 5 3]\n"
     ]
    }
   ],
   "source": [
    "# Get unique values for each column\n",
    "unique_values = {col: X_train[col].unique() for col in X_train.columns}\n",
    "\n",
    "# Display unique values\n",
    "for col, values in unique_values.items():\n",
    "    print(f\"Unique values in column '{col}': {values}\")"
   ]
  },
  {
   "cell_type": "code",
   "execution_count": 41,
   "metadata": {},
   "outputs": [
    {
     "data": {
      "image/png": "[encoded data removed]",
      "text/plain": [
       "<Figure size 640x480 with 1 Axes>"
      ]
     },
     "metadata": {},
     "output_type": "display_data"
    }
   ],
   "source": [
    "sns.countplot(x=y_train.Diabetes)\n",
    "plt.title('Class Distribution')\n",
    "plt.show()"
   ]
  },
  {
   "cell_type": "code",
   "execution_count": 24,
   "metadata": {},
   "outputs": [
    {
     "data": {
      "text/plain": [
       "((160631, 21), (68843, 21))"
      ]
     },
     "execution_count": 24,
     "metadata": {},
     "output_type": "execute_result"
    }
   ],
   "source": [
    "X_train.shape, X_test.shape"
   ]
  },
  {
   "cell_type": "markdown",
   "metadata": {},
   "source": [
    "~This Dataset contains 21 attributes, 2 decision classes, 160K training samples and 68K test samples.\n",
    "> HighBP, HighChol, CholCheck, Smoker, Stroke, HeartDiseaseorAttack, PhysActivity, Fruits, Veggies, HvyAlcoholConsump, AnyHealthcare, NoDocbcCost, DiffWalk, Sex: These features (14) are binary, indicating presence (1) or absence (0) of a condition or behavior.\n",
    "\n",
    "> GenHlth, Education, Income, Age: These features (4) have multiple distinct values\n",
    "\n",
    "> BMI, MentHlth, PhysHlth: These (3) are High Cardinality features\n",
    "\n",
    "\n",
    "~ k-means assumes that clusters are spherical and equally sized, which might not always be the case.\n",
    "\n",
    "    - Since k-means relies on distance measures, binary features might not be well-suited unless properly preprocessed (e.g., using one-hot encoding or calculating the appropriate distance metric like Hamming distance).\n",
    "    \n",
    "    - Cluster : Diabetes=0 is much larger than Diabetes=1, k-means might poorly partition the data.\n",
    "\n",
    "    -  EM can handle binary features if they are considered as Bernoulli distributions.\n"
   ]
  },
  {
   "cell_type": "markdown",
   "metadata": {},
   "source": [
    "1. PCA\n",
    "\n",
    "    Output: PCA transforms the data into a new space defined by the principal components, capturing the most variance in the data.\n",
    "    \n",
    "    Mitigation: Normalize the data to ensure each feature contributes equally to the variance calculation.\n",
    "\n",
    "2. ICA\n",
    "\n",
    "    Output: ICA identifies components that maximize statistical independence.   \n",
    "    \n",
    "    Mitigation: Center and whiten the data to make it more suitable for ICA.\n",
    "\n",
    "3. Randomized Projections (RP):\n",
    "\n",
    "    Output: RP reduces the dimensionality of the data, often with lower computational cost than PCA.\n",
    "    \n",
    "    Mitigation: Run multiple projections to ensure stability and robustness of the results."
   ]
  },
  {
   "cell_type": "markdown",
   "metadata": {},
   "source": [
    "Class Balancing: https://www.linkedin.com/pulse/addressing-class-imbalance-health-data-using-python-salam-sukurat-/"
   ]
  },
  {
   "cell_type": "markdown",
   "metadata": {},
   "source": []
  }
 ],
 "metadata": {
  "kernelspec": {
   "display_name": "Python 3",
   "language": "python",
   "name": "python3"
  },
  "language_info": {
   "codemirror_mode": {
    "name": "ipython",
    "version": 3
   },
   "file_extension": ".py",
   "mimetype": "text/x-python",
   "name": "python",
   "nbconvert_exporter": "python",
   "pygments_lexer": "ipython3",
   "version": "3.11.2"
  }
 },
 "nbformat": 4,
 "nbformat_minor": 2
}
